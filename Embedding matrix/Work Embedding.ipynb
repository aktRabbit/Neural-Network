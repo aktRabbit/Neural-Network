{
 "cells": [
  {
   "cell_type": "code",
   "execution_count": 1,
   "metadata": {},
   "outputs": [
    {
     "name": "stderr",
     "output_type": "stream",
     "text": [
      "Using TensorFlow backend.\n"
     ]
    }
   ],
   "source": [
    "import numpy as np\n",
    "import keras\n",
    "from keras.preprocessing.text import one_hot\n",
    "from keras.preprocessing.sequence import pad_sequences\n",
    "from keras.models import Sequential\n",
    "from keras.layers import Dense\n",
    "from keras.layers import Flatten\n",
    "from keras.layers.embeddings import Embedding"
   ]
  },
  {
   "cell_type": "code",
   "execution_count": 3,
   "metadata": {},
   "outputs": [],
   "source": [
    "# define documents\n",
    "docs = ['Well done!',\n",
    "\t\t'Good work',\n",
    "\t\t'Great effort',\n",
    "\t\t'nice work',\n",
    "\t\t'Excellent!',\n",
    "\t\t'Weak',\n",
    "\t\t'Poor effort!',\n",
    "\t\t'not good',\n",
    "\t\t'poor work',\n",
    "\t\t'Could have done better.']\n",
    "# define class labels\n",
    "labels = np.array([1,1,1,1,1,0,0,0,0,0])"
   ]
  },
  {
   "cell_type": "code",
   "execution_count": 4,
   "metadata": {},
   "outputs": [],
   "source": [
    "vocab_size = 50\n",
    "encoded_docs = [one_hot(d, vocab_size) for d in docs]"
   ]
  },
  {
   "cell_type": "code",
   "execution_count": 5,
   "metadata": {},
   "outputs": [
    {
     "data": {
      "text/plain": [
       "[[24, 11],\n",
       " [10, 3],\n",
       " [1, 2],\n",
       " [36, 3],\n",
       " [11],\n",
       " [11],\n",
       " [49, 2],\n",
       " [10, 10],\n",
       " [49, 3],\n",
       " [42, 13, 11, 15]]"
      ]
     },
     "execution_count": 5,
     "metadata": {},
     "output_type": "execute_result"
    }
   ],
   "source": [
    "encoded_docs"
   ]
  },
  {
   "cell_type": "code",
   "execution_count": 6,
   "metadata": {},
   "outputs": [],
   "source": [
    "# pad documents to a max length of 4 words\n",
    "max_length = 4\n",
    "padded_docs = pad_sequences(encoded_docs, maxlen=max_length, padding='post')"
   ]
  },
  {
   "cell_type": "code",
   "execution_count": 8,
   "metadata": {},
   "outputs": [
    {
     "data": {
      "text/plain": [
       "array([[24, 11,  0,  0],\n",
       "       [10,  3,  0,  0],\n",
       "       [ 1,  2,  0,  0],\n",
       "       [36,  3,  0,  0],\n",
       "       [11,  0,  0,  0],\n",
       "       [11,  0,  0,  0],\n",
       "       [49,  2,  0,  0],\n",
       "       [10, 10,  0,  0],\n",
       "       [49,  3,  0,  0],\n",
       "       [42, 13, 11, 15]])"
      ]
     },
     "execution_count": 8,
     "metadata": {},
     "output_type": "execute_result"
    }
   ],
   "source": [
    "padded_docs"
   ]
  },
  {
   "cell_type": "code",
   "execution_count": 16,
   "metadata": {},
   "outputs": [
    {
     "name": "stdout",
     "output_type": "stream",
     "text": [
      "_________________________________________________________________\n",
      "Layer (type)                 Output Shape              Param #   \n",
      "=================================================================\n",
      "embedding_8 (Embedding)      (None, 4, 8)              400       \n",
      "_________________________________________________________________\n",
      "flatten_7 (Flatten)          (None, 32)                0         \n",
      "_________________________________________________________________\n",
      "dense_7 (Dense)              (None, 1)                 33        \n",
      "=================================================================\n",
      "Total params: 433\n",
      "Trainable params: 433\n",
      "Non-trainable params: 0\n",
      "_________________________________________________________________\n",
      "Epoch 1/50\n",
      "10/10 [==============================] - 1s 124ms/step - loss: 0.6985 - acc: 0.5000\n",
      "Epoch 2/50\n",
      "10/10 [==============================] - 0s 398us/step - loss: 0.6974 - acc: 0.4000\n",
      "Epoch 3/50\n",
      "10/10 [==============================] - 0s 900us/step - loss: 0.6963 - acc: 0.3000\n",
      "Epoch 4/50\n",
      "10/10 [==============================] - 0s 900us/step - loss: 0.6952 - acc: 0.3000\n",
      "Epoch 5/50\n",
      "10/10 [==============================] - 0s 999us/step - loss: 0.6942 - acc: 0.3000\n",
      "Epoch 6/50\n",
      "10/10 [==============================] - 0s 699us/step - loss: 0.6931 - acc: 0.3000\n",
      "Epoch 7/50\n",
      "10/10 [==============================] - 0s 599us/step - loss: 0.6921 - acc: 0.5000\n",
      "Epoch 8/50\n",
      "10/10 [==============================] - 0s 500us/step - loss: 0.6910 - acc: 0.5000\n",
      "Epoch 9/50\n",
      "10/10 [==============================] - 0s 1ms/step - loss: 0.6900 - acc: 0.5000\n",
      "Epoch 10/50\n",
      "10/10 [==============================] - 0s 899us/step - loss: 0.6890 - acc: 0.5000\n",
      "Epoch 11/50\n",
      "10/10 [==============================] - 0s 899us/step - loss: 0.6879 - acc: 0.6000\n",
      "Epoch 12/50\n",
      "10/10 [==============================] - 0s 700us/step - loss: 0.6869 - acc: 0.6000\n",
      "Epoch 13/50\n",
      "10/10 [==============================] - 0s 601us/step - loss: 0.6859 - acc: 0.6000\n",
      "Epoch 14/50\n",
      "10/10 [==============================] - 0s 1ms/step - loss: 0.6849 - acc: 0.6000\n",
      "Epoch 15/50\n",
      "10/10 [==============================] - 0s 1ms/step - loss: 0.6838 - acc: 0.6000\n",
      "Epoch 16/50\n",
      "10/10 [==============================] - 0s 501us/step - loss: 0.6828 - acc: 0.6000\n",
      "Epoch 17/50\n",
      "10/10 [==============================] - 0s 800us/step - loss: 0.6818 - acc: 0.6000\n",
      "Epoch 18/50\n",
      "10/10 [==============================] - 0s 600us/step - loss: 0.6807 - acc: 0.6000\n",
      "Epoch 19/50\n",
      "10/10 [==============================] - 0s 900us/step - loss: 0.6797 - acc: 0.6000\n",
      "Epoch 20/50\n",
      "10/10 [==============================] - 0s 999us/step - loss: 0.6787 - acc: 0.6000\n",
      "Epoch 21/50\n",
      "10/10 [==============================] - 0s 900us/step - loss: 0.6776 - acc: 0.6000\n",
      "Epoch 22/50\n",
      "10/10 [==============================] - 0s 600us/step - loss: 0.6766 - acc: 0.6000\n",
      "Epoch 23/50\n",
      "10/10 [==============================] - 0s 600us/step - loss: 0.6756 - acc: 0.6000\n",
      "Epoch 24/50\n",
      "10/10 [==============================] - 0s 499us/step - loss: 0.6745 - acc: 0.6000\n",
      "Epoch 25/50\n",
      "10/10 [==============================] - 0s 600us/step - loss: 0.6734 - acc: 0.6000\n",
      "Epoch 26/50\n",
      "10/10 [==============================] - 0s 500us/step - loss: 0.6724 - acc: 0.6000\n",
      "Epoch 27/50\n",
      "10/10 [==============================] - 0s 500us/step - loss: 0.6713 - acc: 0.6000\n",
      "Epoch 28/50\n",
      "10/10 [==============================] - 0s 700us/step - loss: 0.6703 - acc: 0.6000\n",
      "Epoch 29/50\n",
      "10/10 [==============================] - 0s 699us/step - loss: 0.6692 - acc: 0.6000\n",
      "Epoch 30/50\n",
      "10/10 [==============================] - 0s 799us/step - loss: 0.6681 - acc: 0.6000\n",
      "Epoch 31/50\n",
      "10/10 [==============================] - 0s 699us/step - loss: 0.6670 - acc: 0.6000\n",
      "Epoch 32/50\n",
      "10/10 [==============================] - 0s 599us/step - loss: 0.6659 - acc: 0.6000\n",
      "Epoch 33/50\n",
      "10/10 [==============================] - 0s 500us/step - loss: 0.6648 - acc: 0.6000\n",
      "Epoch 34/50\n",
      "10/10 [==============================] - 0s 400us/step - loss: 0.6637 - acc: 0.6000\n",
      "Epoch 35/50\n",
      "10/10 [==============================] - 0s 400us/step - loss: 0.6626 - acc: 0.6000\n",
      "Epoch 36/50\n",
      "10/10 [==============================] - 0s 500us/step - loss: 0.6614 - acc: 0.6000\n",
      "Epoch 37/50\n",
      "10/10 [==============================] - 0s 700us/step - loss: 0.6603 - acc: 0.6000\n",
      "Epoch 38/50\n",
      "10/10 [==============================] - 0s 900us/step - loss: 0.6591 - acc: 0.7000\n",
      "Epoch 39/50\n",
      "10/10 [==============================] - 0s 1ms/step - loss: 0.6580 - acc: 0.7000\n",
      "Epoch 40/50\n",
      "10/10 [==============================] - 0s 800us/step - loss: 0.6568 - acc: 0.7000\n",
      "Epoch 41/50\n",
      "10/10 [==============================] - 0s 800us/step - loss: 0.6556 - acc: 0.7000\n",
      "Epoch 42/50\n",
      "10/10 [==============================] - 0s 600us/step - loss: 0.6545 - acc: 0.7000\n",
      "Epoch 43/50\n",
      "10/10 [==============================] - 0s 600us/step - loss: 0.6533 - acc: 0.7000\n",
      "Epoch 44/50\n",
      "10/10 [==============================] - 0s 600us/step - loss: 0.6521 - acc: 0.7000\n",
      "Epoch 45/50\n",
      "10/10 [==============================] - 0s 600us/step - loss: 0.6509 - acc: 0.7000\n",
      "Epoch 46/50\n",
      "10/10 [==============================] - 0s 500us/step - loss: 0.6496 - acc: 0.7000\n",
      "Epoch 47/50\n",
      "10/10 [==============================] - 0s 500us/step - loss: 0.6484 - acc: 0.7000\n",
      "Epoch 48/50\n",
      "10/10 [==============================] - 0s 999us/step - loss: 0.6472 - acc: 0.7000\n",
      "Epoch 49/50\n",
      "10/10 [==============================] - 0s 899us/step - loss: 0.6459 - acc: 0.7000\n",
      "Epoch 50/50\n",
      "10/10 [==============================] - 0s 600us/step - loss: 0.6447 - acc: 0.7000\n"
     ]
    },
    {
     "data": {
      "text/plain": [
       "<keras.callbacks.History at 0x2eacfd04b00>"
      ]
     },
     "execution_count": 16,
     "metadata": {},
     "output_type": "execute_result"
    }
   ],
   "source": [
    "model=Sequential()\n",
    "model.add(Embedding(vocab_size,8,input_length=max_length))\n",
    "model.add(Flatten())\n",
    "model.add(Dense(1,activation='sigmoid'))\n",
    "model.summary()\n",
    "\n",
    "model.compile(optimizer='adam', loss='binary_crossentropy', metrics=['acc'])\n",
    "model.fit(padded_docs, labels, epochs=50, verbose=1)\n"
   ]
  },
  {
   "cell_type": "code",
   "execution_count": 17,
   "metadata": {},
   "outputs": [
    {
     "name": "stdout",
     "output_type": "stream",
     "text": [
      "Accuracy: 69.999999\n"
     ]
    }
   ],
   "source": [
    "loss, accuracy = model.evaluate(padded_docs, labels, verbose=0)\n",
    "print('Accuracy: %f' % (accuracy*100))"
   ]
  },
  {
   "cell_type": "markdown",
   "metadata": {},
   "source": [
    "There is a another way to create embedding matrix.It is given in next slide"
   ]
  },
  {
   "cell_type": "code",
   "execution_count": null,
   "metadata": {},
   "outputs": [],
   "source": []
  }
 ],
 "metadata": {
  "kernelspec": {
   "display_name": "Python 3",
   "language": "python",
   "name": "python3"
  },
  "language_info": {
   "codemirror_mode": {
    "name": "ipython",
    "version": 3
   },
   "file_extension": ".py",
   "mimetype": "text/x-python",
   "name": "python",
   "nbconvert_exporter": "python",
   "pygments_lexer": "ipython3",
   "version": "3.5.6"
  }
 },
 "nbformat": 4,
 "nbformat_minor": 2
}
